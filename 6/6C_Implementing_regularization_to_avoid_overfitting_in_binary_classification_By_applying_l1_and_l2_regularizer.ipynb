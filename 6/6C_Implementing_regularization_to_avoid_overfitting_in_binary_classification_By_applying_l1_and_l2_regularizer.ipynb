{
  "nbformat": 4,
  "nbformat_minor": 0,
  "metadata": {
    "colab": {
      "provenance": []
    },
    "kernelspec": {
      "name": "python3",
      "display_name": "Python 3"
    },
    "language_info": {
      "name": "python"
    }
  },
  "cells": [
    {
      "cell_type": "code",
      "execution_count": 1,
      "metadata": {
        "colab": {
          "base_uri": "https://localhost:8080/",
          "height": 1000
        },
        "id": "bjtZL79zWT3U",
        "outputId": "40582dd9-66fc-4b8c-be8e-d710a6eb9378"
      },
      "outputs": [
        {
          "output_type": "stream",
          "name": "stdout",
          "text": [
            "Epoch 1/40\n",
            "1/1 [==============================] - 2s 2s/step - loss: 0.7317 - accuracy: 0.8000 - val_loss: 0.7208 - val_accuracy: 0.8286\n",
            "Epoch 2/40\n",
            "1/1 [==============================] - 0s 80ms/step - loss: 0.7159 - accuracy: 0.8667 - val_loss: 0.7109 - val_accuracy: 0.8000\n",
            "Epoch 3/40\n",
            "1/1 [==============================] - 0s 124ms/step - loss: 0.7006 - accuracy: 0.8667 - val_loss: 0.7013 - val_accuracy: 0.7857\n",
            "Epoch 4/40\n",
            "1/1 [==============================] - 0s 101ms/step - loss: 0.6857 - accuracy: 0.8667 - val_loss: 0.6921 - val_accuracy: 0.7429\n",
            "Epoch 5/40\n",
            "1/1 [==============================] - 0s 94ms/step - loss: 0.6712 - accuracy: 0.8667 - val_loss: 0.6832 - val_accuracy: 0.7429\n",
            "Epoch 6/40\n",
            "1/1 [==============================] - 0s 75ms/step - loss: 0.6572 - accuracy: 0.9000 - val_loss: 0.6747 - val_accuracy: 0.7286\n",
            "Epoch 7/40\n",
            "1/1 [==============================] - 0s 80ms/step - loss: 0.6435 - accuracy: 0.9000 - val_loss: 0.6665 - val_accuracy: 0.7286\n",
            "Epoch 8/40\n",
            "1/1 [==============================] - 0s 79ms/step - loss: 0.6303 - accuracy: 0.9333 - val_loss: 0.6586 - val_accuracy: 0.7286\n",
            "Epoch 9/40\n",
            "1/1 [==============================] - 0s 80ms/step - loss: 0.6174 - accuracy: 0.9333 - val_loss: 0.6510 - val_accuracy: 0.7286\n",
            "Epoch 10/40\n",
            "1/1 [==============================] - 0s 126ms/step - loss: 0.6049 - accuracy: 0.9333 - val_loss: 0.6437 - val_accuracy: 0.7286\n",
            "Epoch 11/40\n",
            "1/1 [==============================] - 0s 88ms/step - loss: 0.5928 - accuracy: 0.9333 - val_loss: 0.6367 - val_accuracy: 0.7286\n",
            "Epoch 12/40\n",
            "1/1 [==============================] - 0s 87ms/step - loss: 0.5810 - accuracy: 0.9333 - val_loss: 0.6300 - val_accuracy: 0.7286\n",
            "Epoch 13/40\n",
            "1/1 [==============================] - 0s 88ms/step - loss: 0.5696 - accuracy: 0.9000 - val_loss: 0.6236 - val_accuracy: 0.7286\n",
            "Epoch 14/40\n",
            "1/1 [==============================] - 0s 120ms/step - loss: 0.5586 - accuracy: 0.9000 - val_loss: 0.6175 - val_accuracy: 0.7286\n",
            "Epoch 15/40\n",
            "1/1 [==============================] - 0s 121ms/step - loss: 0.5479 - accuracy: 0.9000 - val_loss: 0.6116 - val_accuracy: 0.7286\n",
            "Epoch 16/40\n",
            "1/1 [==============================] - 0s 82ms/step - loss: 0.5374 - accuracy: 0.9000 - val_loss: 0.6061 - val_accuracy: 0.7286\n",
            "Epoch 17/40\n",
            "1/1 [==============================] - 0s 78ms/step - loss: 0.5273 - accuracy: 0.9000 - val_loss: 0.6007 - val_accuracy: 0.7286\n",
            "Epoch 18/40\n",
            "1/1 [==============================] - 0s 112ms/step - loss: 0.5175 - accuracy: 0.9000 - val_loss: 0.5956 - val_accuracy: 0.7286\n",
            "Epoch 19/40\n",
            "1/1 [==============================] - 0s 90ms/step - loss: 0.5080 - accuracy: 0.9000 - val_loss: 0.5908 - val_accuracy: 0.7286\n",
            "Epoch 20/40\n",
            "1/1 [==============================] - 0s 92ms/step - loss: 0.4988 - accuracy: 0.9000 - val_loss: 0.5862 - val_accuracy: 0.7286\n",
            "Epoch 21/40\n",
            "1/1 [==============================] - 0s 84ms/step - loss: 0.4898 - accuracy: 0.9000 - val_loss: 0.5818 - val_accuracy: 0.7286\n",
            "Epoch 22/40\n",
            "1/1 [==============================] - 0s 106ms/step - loss: 0.4811 - accuracy: 0.9000 - val_loss: 0.5777 - val_accuracy: 0.7286\n",
            "Epoch 23/40\n",
            "1/1 [==============================] - 0s 94ms/step - loss: 0.4727 - accuracy: 0.9000 - val_loss: 0.5738 - val_accuracy: 0.7286\n",
            "Epoch 24/40\n",
            "1/1 [==============================] - 0s 146ms/step - loss: 0.4646 - accuracy: 0.9000 - val_loss: 0.5700 - val_accuracy: 0.7286\n",
            "Epoch 25/40\n",
            "1/1 [==============================] - 0s 87ms/step - loss: 0.4567 - accuracy: 0.9000 - val_loss: 0.5665 - val_accuracy: 0.7286\n",
            "Epoch 26/40\n",
            "1/1 [==============================] - 0s 80ms/step - loss: 0.4491 - accuracy: 0.9000 - val_loss: 0.5631 - val_accuracy: 0.7286\n",
            "Epoch 27/40\n",
            "1/1 [==============================] - 0s 131ms/step - loss: 0.4417 - accuracy: 0.9000 - val_loss: 0.5600 - val_accuracy: 0.7286\n",
            "Epoch 28/40\n",
            "1/1 [==============================] - 0s 143ms/step - loss: 0.4346 - accuracy: 0.9000 - val_loss: 0.5570 - val_accuracy: 0.7286\n",
            "Epoch 29/40\n",
            "1/1 [==============================] - 0s 89ms/step - loss: 0.4277 - accuracy: 0.9000 - val_loss: 0.5542 - val_accuracy: 0.7286\n",
            "Epoch 30/40\n",
            "1/1 [==============================] - 0s 70ms/step - loss: 0.4211 - accuracy: 0.9000 - val_loss: 0.5515 - val_accuracy: 0.7286\n",
            "Epoch 31/40\n",
            "1/1 [==============================] - 0s 87ms/step - loss: 0.4147 - accuracy: 0.9000 - val_loss: 0.5490 - val_accuracy: 0.7286\n",
            "Epoch 32/40\n",
            "1/1 [==============================] - 0s 72ms/step - loss: 0.4085 - accuracy: 0.9000 - val_loss: 0.5466 - val_accuracy: 0.7286\n",
            "Epoch 33/40\n",
            "1/1 [==============================] - 0s 79ms/step - loss: 0.4026 - accuracy: 0.9000 - val_loss: 0.5444 - val_accuracy: 0.7286\n",
            "Epoch 34/40\n",
            "1/1 [==============================] - 0s 118ms/step - loss: 0.3969 - accuracy: 0.9000 - val_loss: 0.5423 - val_accuracy: 0.7286\n",
            "Epoch 35/40\n",
            "1/1 [==============================] - 0s 72ms/step - loss: 0.3914 - accuracy: 0.9000 - val_loss: 0.5403 - val_accuracy: 0.7286\n",
            "Epoch 36/40\n",
            "1/1 [==============================] - 0s 88ms/step - loss: 0.3860 - accuracy: 0.9000 - val_loss: 0.5384 - val_accuracy: 0.7286\n",
            "Epoch 37/40\n",
            "1/1 [==============================] - 0s 75ms/step - loss: 0.3809 - accuracy: 0.9000 - val_loss: 0.5367 - val_accuracy: 0.7286\n",
            "Epoch 38/40\n",
            "1/1 [==============================] - 0s 89ms/step - loss: 0.3760 - accuracy: 0.9333 - val_loss: 0.5350 - val_accuracy: 0.7286\n",
            "Epoch 39/40\n",
            "1/1 [==============================] - 0s 132ms/step - loss: 0.3713 - accuracy: 0.9333 - val_loss: 0.5334 - val_accuracy: 0.7286\n",
            "Epoch 40/40\n",
            "1/1 [==============================] - 0s 114ms/step - loss: 0.3668 - accuracy: 0.9333 - val_loss: 0.5320 - val_accuracy: 0.7286\n"
          ]
        },
        {
          "output_type": "display_data",
          "data": {
            "text/plain": [
              "<Figure size 640x480 with 1 Axes>"
            ],
            "image/png": "[encoded data removed]"
          },
          "metadata": {}
        }
      ],
      "source": [
        "from matplotlib import pyplot\n",
        "from sklearn.datasets import make_moons\n",
        "from keras.models import Sequential\n",
        "from keras.layers import Dense\n",
        "from keras.regularizers import l1_l2\n",
        "X,Y=make_moons(n_samples=100,noise=0.2,random_state=1)\n",
        "n_train=30\n",
        "trainX,testX=X[:n_train,:],X[n_train:]\n",
        "trainY,testY=Y[:n_train],Y[n_train:]\n",
        "#print(trainX)\n",
        "#print(trainY)\n",
        "#print(testX)\n",
        "#print(testY)\n",
        "model=Sequential()\n",
        "model.add(Dense(500,input_dim=2,activation='relu',kernel_regularizer=l1_l2(l1=0.001,l2=0.001)))\n",
        "model.add(Dense(1,activation='sigmoid'))\n",
        "model.compile(loss='binary_crossentropy',optimizer='adam',metrics=['accuracy'])\n",
        "history=model.fit(trainX,trainY,validation_data=(testX,testY),epochs=40)\n",
        "pyplot.plot(history.history['accuracy'],label='train')\n",
        "pyplot.plot(history.history['val_accuracy'],label='test')\n",
        "pyplot.legend()\n",
        "pyplot.show()"
      ]
    }
  ]
}