{
  "nbformat": 4,
  "nbformat_minor": 0,
  "metadata": {
    "colab": {
      "provenance": []
    },
    "kernelspec": {
      "name": "python3",
      "display_name": "Python 3"
    },
    "language_info": {
      "name": "python"
    }
  },
  "cells": [
    {
      "cell_type": "code",
      "execution_count": 1,
      "metadata": {
        "colab": {
          "base_uri": "https://localhost:8080/",
          "height": 1000
        },
        "id": "_VsTFaRjU4h0",
        "outputId": "d950c7cf-ef11-40b0-8137-d0a75a2c713d"
      },
      "outputs": [
        {
          "output_type": "stream",
          "name": "stdout",
          "text": [
            "Epoch 1/40\n",
            "1/1 [==============================] - 2s 2s/step - loss: 0.6950 - accuracy: 0.5333 - val_loss: 0.6943 - val_accuracy: 0.4714\n",
            "Epoch 2/40\n",
            "1/1 [==============================] - 0s 107ms/step - loss: 0.6786 - accuracy: 0.5333 - val_loss: 0.6841 - val_accuracy: 0.6000\n",
            "Epoch 3/40\n",
            "1/1 [==============================] - 0s 102ms/step - loss: 0.6627 - accuracy: 0.8000 - val_loss: 0.6743 - val_accuracy: 0.6286\n",
            "Epoch 4/40\n",
            "1/1 [==============================] - 0s 83ms/step - loss: 0.6473 - accuracy: 0.8000 - val_loss: 0.6648 - val_accuracy: 0.6143\n",
            "Epoch 5/40\n",
            "1/1 [==============================] - 0s 91ms/step - loss: 0.6323 - accuracy: 0.8667 - val_loss: 0.6558 - val_accuracy: 0.6286\n",
            "Epoch 6/40\n",
            "1/1 [==============================] - 0s 120ms/step - loss: 0.6178 - accuracy: 0.8667 - val_loss: 0.6471 - val_accuracy: 0.6429\n",
            "Epoch 7/40\n",
            "1/1 [==============================] - 0s 79ms/step - loss: 0.6038 - accuracy: 0.8667 - val_loss: 0.6388 - val_accuracy: 0.6571\n",
            "Epoch 8/40\n",
            "1/1 [==============================] - 0s 77ms/step - loss: 0.5903 - accuracy: 0.8333 - val_loss: 0.6309 - val_accuracy: 0.6857\n",
            "Epoch 9/40\n",
            "1/1 [==============================] - 0s 115ms/step - loss: 0.5772 - accuracy: 0.8333 - val_loss: 0.6232 - val_accuracy: 0.6857\n",
            "Epoch 10/40\n",
            "1/1 [==============================] - 0s 96ms/step - loss: 0.5646 - accuracy: 0.8333 - val_loss: 0.6158 - val_accuracy: 0.6857\n",
            "Epoch 11/40\n",
            "1/1 [==============================] - 0s 73ms/step - loss: 0.5523 - accuracy: 0.8333 - val_loss: 0.6087 - val_accuracy: 0.6857\n",
            "Epoch 12/40\n",
            "1/1 [==============================] - 0s 135ms/step - loss: 0.5404 - accuracy: 0.8333 - val_loss: 0.6018 - val_accuracy: 0.6857\n",
            "Epoch 13/40\n",
            "1/1 [==============================] - 0s 105ms/step - loss: 0.5288 - accuracy: 0.8333 - val_loss: 0.5952 - val_accuracy: 0.6857\n",
            "Epoch 14/40\n",
            "1/1 [==============================] - 0s 118ms/step - loss: 0.5177 - accuracy: 0.8333 - val_loss: 0.5889 - val_accuracy: 0.6857\n",
            "Epoch 15/40\n",
            "1/1 [==============================] - 0s 122ms/step - loss: 0.5068 - accuracy: 0.8333 - val_loss: 0.5828 - val_accuracy: 0.6857\n",
            "Epoch 16/40\n",
            "1/1 [==============================] - 0s 96ms/step - loss: 0.4962 - accuracy: 0.8333 - val_loss: 0.5769 - val_accuracy: 0.6857\n",
            "Epoch 17/40\n",
            "1/1 [==============================] - 0s 74ms/step - loss: 0.4860 - accuracy: 0.8333 - val_loss: 0.5713 - val_accuracy: 0.6857\n",
            "Epoch 18/40\n",
            "1/1 [==============================] - 0s 97ms/step - loss: 0.4760 - accuracy: 0.8667 - val_loss: 0.5658 - val_accuracy: 0.6857\n",
            "Epoch 19/40\n",
            "1/1 [==============================] - 0s 174ms/step - loss: 0.4663 - accuracy: 0.8667 - val_loss: 0.5606 - val_accuracy: 0.7000\n",
            "Epoch 20/40\n",
            "1/1 [==============================] - 0s 195ms/step - loss: 0.4570 - accuracy: 0.8667 - val_loss: 0.5556 - val_accuracy: 0.7143\n",
            "Epoch 21/40\n",
            "1/1 [==============================] - 0s 101ms/step - loss: 0.4478 - accuracy: 0.8667 - val_loss: 0.5508 - val_accuracy: 0.7143\n",
            "Epoch 22/40\n",
            "1/1 [==============================] - 0s 91ms/step - loss: 0.4390 - accuracy: 0.8667 - val_loss: 0.5462 - val_accuracy: 0.7143\n",
            "Epoch 23/40\n",
            "1/1 [==============================] - 0s 77ms/step - loss: 0.4304 - accuracy: 0.8667 - val_loss: 0.5418 - val_accuracy: 0.7143\n",
            "Epoch 24/40\n",
            "1/1 [==============================] - 0s 76ms/step - loss: 0.4221 - accuracy: 0.8667 - val_loss: 0.5376 - val_accuracy: 0.7143\n",
            "Epoch 25/40\n",
            "1/1 [==============================] - 0s 75ms/step - loss: 0.4140 - accuracy: 0.8667 - val_loss: 0.5335 - val_accuracy: 0.7143\n",
            "Epoch 26/40\n",
            "1/1 [==============================] - 0s 107ms/step - loss: 0.4061 - accuracy: 0.8667 - val_loss: 0.5296 - val_accuracy: 0.7143\n",
            "Epoch 27/40\n",
            "1/1 [==============================] - 0s 95ms/step - loss: 0.3985 - accuracy: 0.8667 - val_loss: 0.5259 - val_accuracy: 0.7143\n",
            "Epoch 28/40\n",
            "1/1 [==============================] - 0s 82ms/step - loss: 0.3911 - accuracy: 0.8667 - val_loss: 0.5223 - val_accuracy: 0.7143\n",
            "Epoch 29/40\n",
            "1/1 [==============================] - 0s 75ms/step - loss: 0.3840 - accuracy: 0.8667 - val_loss: 0.5189 - val_accuracy: 0.7143\n",
            "Epoch 30/40\n",
            "1/1 [==============================] - 0s 89ms/step - loss: 0.3770 - accuracy: 0.8667 - val_loss: 0.5157 - val_accuracy: 0.7143\n",
            "Epoch 31/40\n",
            "1/1 [==============================] - 0s 161ms/step - loss: 0.3703 - accuracy: 0.8667 - val_loss: 0.5125 - val_accuracy: 0.7143\n",
            "Epoch 32/40\n",
            "1/1 [==============================] - 0s 123ms/step - loss: 0.3638 - accuracy: 0.8667 - val_loss: 0.5095 - val_accuracy: 0.7143\n",
            "Epoch 33/40\n",
            "1/1 [==============================] - 0s 125ms/step - loss: 0.3574 - accuracy: 0.8667 - val_loss: 0.5067 - val_accuracy: 0.7143\n",
            "Epoch 34/40\n",
            "1/1 [==============================] - 0s 116ms/step - loss: 0.3513 - accuracy: 0.8667 - val_loss: 0.5039 - val_accuracy: 0.7143\n",
            "Epoch 35/40\n",
            "1/1 [==============================] - 0s 86ms/step - loss: 0.3453 - accuracy: 0.8667 - val_loss: 0.5013 - val_accuracy: 0.7143\n",
            "Epoch 36/40\n",
            "1/1 [==============================] - 0s 78ms/step - loss: 0.3396 - accuracy: 0.9000 - val_loss: 0.4988 - val_accuracy: 0.7143\n",
            "Epoch 37/40\n",
            "1/1 [==============================] - 0s 245ms/step - loss: 0.3340 - accuracy: 0.9000 - val_loss: 0.4964 - val_accuracy: 0.7286\n",
            "Epoch 38/40\n",
            "1/1 [==============================] - 0s 80ms/step - loss: 0.3286 - accuracy: 0.9000 - val_loss: 0.4941 - val_accuracy: 0.7286\n",
            "Epoch 39/40\n",
            "1/1 [==============================] - 0s 144ms/step - loss: 0.3234 - accuracy: 0.9000 - val_loss: 0.4919 - val_accuracy: 0.7286\n",
            "Epoch 40/40\n",
            "1/1 [==============================] - 0s 104ms/step - loss: 0.3184 - accuracy: 0.9000 - val_loss: 0.4898 - val_accuracy: 0.7286\n"
          ]
        },
        {
          "output_type": "display_data",
          "data": {
            "text/plain": [
              "<Figure size 640x480 with 1 Axes>"
            ],
            "image/png": "[encoded data removed]"
          },
          "metadata": {}
        }
      ],
      "source": [
        "from matplotlib import pyplot\n",
        "from sklearn.datasets import make_moons\n",
        "from keras.models import Sequential\n",
        "from keras.layers import Dense\n",
        "from keras.regularizers import l2\n",
        "X,Y=make_moons(n_samples=100,noise=0.2,random_state=1)\n",
        "n_train=30\n",
        "trainX,testX=X[:n_train,:],X[n_train:]\n",
        "trainY,testY=Y[:n_train],Y[n_train:]\n",
        "#print(trainX)\n",
        "#print(trainY)\n",
        "#print(testX)\n",
        "#print(testY)\n",
        "model=Sequential()\n",
        "model.add(Dense(500,input_dim=2,activation='relu',kernel_regularizer=l2(0.001)))\n",
        "model.add(Dense(1,activation='sigmoid'))\n",
        "model.compile(loss='binary_crossentropy',optimizer='adam',metrics=['accuracy'])\n",
        "history=model.fit(trainX,trainY,validation_data=(testX,testY),epochs=40)\n",
        "pyplot.plot(history.history['accuracy'],label='train')\n",
        "pyplot.plot(history.history['val_accuracy'],label='test')\n",
        "pyplot.legend()\n",
        "pyplot.show()"
      ]
    }
  ]
}