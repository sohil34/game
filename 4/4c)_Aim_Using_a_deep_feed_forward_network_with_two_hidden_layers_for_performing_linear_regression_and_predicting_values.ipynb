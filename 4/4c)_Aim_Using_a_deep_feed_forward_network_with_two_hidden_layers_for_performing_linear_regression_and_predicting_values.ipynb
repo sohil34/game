{
  "nbformat": 4,
  "nbformat_minor": 0,
  "metadata": {
    "colab": {
      "provenance": []
    },
    "kernelspec": {
      "name": "python3",
      "display_name": "Python 3"
    },
    "language_info": {
      "name": "python"
    }
  },
  "cells": [
    {
      "cell_type": "code",
      "execution_count": 1,
      "metadata": {
        "colab": {
          "base_uri": "https://localhost:8080/"
        },
        "id": "_BFv0Bc85Nvk",
        "outputId": "d3cae19d-1088-4fa1-840e-d3b774752033"
      },
      "outputs": [
        {
          "output_type": "stream",
          "name": "stdout",
          "text": [
            "1/1 [==============================] - 0s 222ms/step\n",
            "X=[0.29466096 0.30317302],Predicted=[0.17472994]\n",
            "X=[0.39445118 0.79390858],Predicted=[0.7564166]\n",
            "X=[0.02884127 0.6208843 ],Predicted=[0.40004683]\n"
          ]
        }
      ],
      "source": [
        "from keras.models import Sequential\n",
        "from keras.layers import Dense\n",
        "from sklearn.datasets import make_regression\n",
        "from sklearn.preprocessing import MinMaxScaler\n",
        "X,Y=make_regression(n_samples=100,n_features=2,noise=0.1,random_state=1)\n",
        "scalarX,scalarY=MinMaxScaler(),MinMaxScaler()\n",
        "scalarX.fit(X)\n",
        "scalarY.fit(Y.reshape(100,1))\n",
        "X=scalarX.transform(X)\n",
        "Y=scalarY.transform(Y.reshape(100,1))\n",
        "model=Sequential()\n",
        "model.add(Dense(4,input_dim=2,activation='relu'))\n",
        "model.add(Dense(4,activation='relu'))\n",
        "model.add(Dense(1,activation='sigmoid'))\n",
        "model.compile(loss='mse',optimizer='adam')\n",
        "model.fit(X,Y,epochs=1000,verbose=0)\n",
        "Xnew,a=make_regression(n_samples=3,n_features=2,noise=0.1,random_state=1)\n",
        "Xnew=scalarX.transform(Xnew)\n",
        "Ynew=model.predict(Xnew)\n",
        "for i in range(len(Xnew)):\n",
        "  print(\"X=%s,Predicted=%s\"%(Xnew[i],Ynew[i]))"
      ]
    }
  ]
}